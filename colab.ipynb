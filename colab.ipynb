{
 "cells": [
  {
   "cell_type": "code",
   "execution_count": null,
   "metadata": {},
   "outputs": [],
   "source": [
    "# ==========================================================\n",
    "from google.colab import drive\n",
    "drive.mount('/content/drive')\n",
    "\n",
    "\n",
    "google_path = \"/content/drive/Othercomputers/mbp/google_drive\"\n",
    "pkg_path = \"/content/drive/Othercomputers/mbp/google_drive/site-packages\"\n",
    "# project_path = \"/content/drive/Othercomputers/mbp/google_drive/project1\"\n",
    "\n",
    "import subprocess\n",
    "\n",
    "class Terminal:\n",
    "\n",
    "    def __init__(self):\n",
    "        pass\n",
    "\n",
    "    def run(self, command):\n",
    "        process = subprocess.run(command, shell=True, check=True, text=True, stdout=subprocess.PIPE, stderr=subprocess.PIPE)\n",
    "        return process.stdout, process.stderr\n",
    "\n",
    "# Usage:\n",
    "terminal = Terminal()\n",
    "\n",
    "stdout, stderr = terminal.run('pwd')\n",
    "print('STDOUT:', stdout)\n",
    "print('STDERR:', stderr)"
   ]
  }
 ],
 "metadata": {
  "language_info": {
   "name": "python"
  },
  "orig_nbformat": 4
 },
 "nbformat": 4,
 "nbformat_minor": 2
}
